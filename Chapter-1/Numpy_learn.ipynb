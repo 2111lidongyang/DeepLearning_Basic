{
 "cells": [
  {
   "cell_type": "markdown",
   "id": "19fe99dc",
   "metadata": {},
   "source": [
    "# NumPy 基本使用方法示例\n",
    "NumPy 是 Python 中用于科学计算的基础库，提供了高性能的多维数组对象和相关工具。"
   ]
  },
  {
   "cell_type": "code",
   "execution_count": 17,
   "id": "83893e9b",
   "metadata": {},
   "outputs": [
    {
     "name": "stdout",
     "output_type": "stream",
     "text": [
      "一维数组: [1 2 3 4 5]\n",
      "二维数组: [[1 2]\n",
      " [3 4]]\n"
     ]
    }
   ],
   "source": [
    "import numpy as np\n",
    "\n",
    "# 创建一个一维数组\n",
    "arr1 = np.array([1, 2, 3, 4, 5])\n",
    "print(\"一维数组:\", arr1)\n",
    "\n",
    "# 创建一个二维数组\n",
    "arr2 = np.array([[1, 2], [3, 4]])\n",
    "print(\"二维数组:\", arr2)"
   ]
  },
  {
   "cell_type": "code",
   "execution_count": 18,
   "id": "5301a5cc",
   "metadata": {},
   "outputs": [
    {
     "name": "stdout",
     "output_type": "stream",
     "text": [
      "arr1的形状: (5,)\n",
      "arr2的形状: (2, 2)\n",
      "arr1的数据类型: int32\n"
     ]
    }
   ],
   "source": [
    "# 数组的形状\n",
    "print(\"arr1的形状:\", arr1.shape)\n",
    "print(\"arr2的形状:\", arr2.shape)\n",
    "\n",
    "# 数组的数据类型\n",
    "print(\"arr1的数据类型:\", arr1.dtype)"
   ]
  },
  {
   "cell_type": "code",
   "execution_count": 19,
   "id": "4ba9bd78",
   "metadata": {},
   "outputs": [
    {
     "name": "stdout",
     "output_type": "stream",
     "text": [
      "全0数组: [[0. 0. 0. 0.]\n",
      " [0. 0. 0. 0.]\n",
      " [0. 0. 0. 0.]]\n",
      "全1数组: [[1. 1. 1.]\n",
      " [1. 1. 1.]]\n",
      "单位矩阵: [[1. 0. 0.]\n",
      " [0. 1. 0.]\n",
      " [0. 0. 1.]]\n"
     ]
    }
   ],
   "source": [
    "# 创建特定数组\n",
    "zeros_arr = np.zeros((3, 4))  # 创建3x4的全0数组\n",
    "ones_arr = np.ones((2, 3))    # 创建2x3的全1数组\n",
    "identity_arr = np.eye(3)      # 创建3x3的单位矩阵\n",
    "print(\"全0数组:\", zeros_arr)\n",
    "print(\"全1数组:\", ones_arr)\n",
    "print(\"单位矩阵:\", identity_arr)"
   ]
  },
  {
   "cell_type": "code",
   "execution_count": 20,
   "id": "b022bb1d",
   "metadata": {},
   "outputs": [
    {
     "name": "stdout",
     "output_type": "stream",
     "text": [
      "原数组: [1 2 3 4]\n",
      "数组加法 (arr + 10): [11 12 13 14]\n",
      "数组乘法 (arr * 2): [2 4 6 8]\n",
      "数组平方: [ 1  4  9 16]\n"
     ]
    }
   ],
   "source": [
    "# 数组的基本运算\n",
    "arr = np.array([1, 2, 3, 4])\n",
    "print(\"原数组:\", arr)\n",
    "print(\"数组加法 (arr + 10):\", arr + 10)\n",
    "print(\"数组乘法 (arr * 2):\", arr * 2)\n",
    "print(\"数组平方:\", arr ** 2)"
   ]
  },
  {
   "cell_type": "code",
   "execution_count": 21,
   "id": "709ae964",
   "metadata": {},
   "outputs": [
    {
     "name": "stdout",
     "output_type": "stream",
     "text": [
      "arr[0]: 1\n",
      "arr[1:3]: [2 3]\n",
      "二维数组: [[1 2 3]\n",
      " [4 5 6]\n",
      " [7 8 9]]\n",
      "arr_2d[1, 2]: 6\n",
      "arr_2d的第一行: [1 2 3]\n",
      "arr_2d的前两行: [[1 2 3]\n",
      " [4 5 6]]\n",
      "arr_2d的前两行和前两列: [[1 2]\n",
      " [4 5]]\n"
     ]
    }
   ],
   "source": [
    "# 数组的索引和切片\n",
    "print(\"arr[0]:\", arr[0])\n",
    "print(\"arr[1:3]:\", arr[1:3])\n",
    "\n",
    "# 多维数组的索引\n",
    "arr_2d = np.array([[1, 2, 3], [4, 5, 6], [7, 8, 9]])\n",
    "print(\"二维数组:\", arr_2d)\n",
    "print(\"arr_2d[1, 2]:\", arr_2d[1, 2])\n",
    "print(\"arr_2d的第一行:\", arr_2d[0])\n",
    "print(\"arr_2d的前两行:\", arr_2d[:2])\n",
    "print(\"arr_2d的前两行和前两列:\", arr_2d[:2, :2])"
   ]
  },
  {
   "cell_type": "code",
   "execution_count": 22,
   "id": "fc6cc390",
   "metadata": {},
   "outputs": [
    {
     "name": "stdout",
     "output_type": "stream",
     "text": [
      "数组元素的和: 10\n",
      "数组元素的平均值: 2.5\n",
      "数组元素的最大值: 4\n",
      "数组元素的最小值: 1\n"
     ]
    }
   ],
   "source": [
    "# 数组的统计运算\n",
    "print(\"数组元素的和:\", np.sum(arr))\n",
    "print(\"数组元素的平均值:\", np.mean(arr))\n",
    "print(\"数组元素的最大值:\", np.max(arr))\n",
    "print(\"数组元素的最小值:\", np.min(arr))"
   ]
  },
  {
   "cell_type": "code",
   "execution_count": 23,
   "id": "d692dcbc",
   "metadata": {},
   "outputs": [
    {
     "name": "stdout",
     "output_type": "stream",
     "text": [
      "重塑后的数组: [[1 2]\n",
      " [3 4]]\n",
      "拼接后的数组: [1 2 3 4 5 6]\n"
     ]
    }
   ],
   "source": [
    "# 数组的形状变换\n",
    "reshaped_arr = arr.reshape((2, 2))\n",
    "print(\"重塑后的数组:\", reshaped_arr)\n",
    "\n",
    "# 数组的拼接\n",
    "arr_a = np.array([1, 2, 3])\n",
    "arr_b = np.array([4, 5, 6])\n",
    "concatenated_arr = np.concatenate([arr_a, arr_b])\n",
    "print(\"拼接后的数组:\", concatenated_arr)"
   ]
  },
  {
   "cell_type": "code",
   "execution_count": 26,
   "id": "1305ec86",
   "metadata": {},
   "outputs": [
    {
     "name": "stdout",
     "output_type": "stream",
     "text": [
      "A: [[1 2]\n",
      " [3 4]]\n",
      "B: [10 20]\n",
      "A * B: [[10 40]\n",
      " [30 80]]\n"
     ]
    }
   ],
   "source": [
    "# 数组的广播\n",
    "A = np.array([[1,2],[3,4]])\n",
    "B = np.array([10, 20])\n",
    "print(\"A:\", A)\n",
    "print(\"B:\", B)\n",
    "print(\"A * B:\", A * B)"
   ]
  },
  {
   "cell_type": "markdown",
   "id": "d47bda97",
   "metadata": {},
   "source": [
    "广播图例子\n",
    "\n",
    "<img src='../assets/广播.png' width='1500'><br>"
   ]
  },
  {
   "cell_type": "markdown",
   "id": "287d083b",
   "metadata": {},
   "source": []
  }
 ],
 "metadata": {
  "kernelspec": {
   "display_name": "base",
   "language": "python",
   "name": "python3"
  },
  "language_info": {
   "codemirror_mode": {
    "name": "ipython",
    "version": 3
   },
   "file_extension": ".py",
   "mimetype": "text/x-python",
   "name": "python",
   "nbconvert_exporter": "python",
   "pygments_lexer": "ipython3",
   "version": "3.6.5"
  }
 },
 "nbformat": 4,
 "nbformat_minor": 5
}
