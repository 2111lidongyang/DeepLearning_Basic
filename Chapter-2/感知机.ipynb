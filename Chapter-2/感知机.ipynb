{
 "cells": [
  {
   "cell_type": "markdown",
   "id": "2f895567",
   "metadata": {},
   "source": [
    "# 感知机"
   ]
  },
  {
   "cell_type": "markdown",
   "id": "593c6e91",
   "metadata": {},
   "source": [
    "# 1、什么是感知机"
   ]
  },
  {
   "cell_type": "markdown",
   "id": "092f621c",
   "metadata": {},
   "source": [
    "感知机接收多个输入信号，输出一个信号。对于信号的取值只有 0 或者 1。下图是一个接收 2 个信号输入的感知机示例图。X1、X2是输入信号，Y 是输出信号，w1、w2是权重。输入信号被送往神经元时，会被分别乘以固定的权重 （w1x1、w2x2）。神经元会计算传送过来的信号的总和，只有当这个总和超过了某个界限值时，才会输出1。这也称为“神经元被激活”。这里将这个界限值称为阈值，用符号θ表示。"
   ]
  },
  {
   "cell_type": "markdown",
   "id": "20e64505",
   "metadata": {},
   "source": []
  },
  {
   "cell_type": "markdown",
   "id": "b06201b2",
   "metadata": {},
   "source": [
    "<img src='../assets/感知机.png' width='1500'><br>"
   ]
  },
  {
   "cell_type": "markdown",
   "id": "5018ffbc",
   "metadata": {},
   "source": []
  },
  {
   "cell_type": "markdown",
   "id": "2eec9271",
   "metadata": {},
   "source": [
    "<img src='../assets/感知机的数学公式.png'><br>"
   ]
  },
  {
   "cell_type": "markdown",
   "id": "472c9686",
   "metadata": {},
   "source": [
    "感知机公式1"
   ]
  },
  {
   "cell_type": "markdown",
   "id": "acd5d096",
   "metadata": {},
   "source": [
    "# 2、使用感知机实现与门"
   ]
  },
  {
   "cell_type": "markdown",
   "id": "91366f5d",
   "metadata": {},
   "source": [
    "<img src='../assets/与门真值表.png' width='1500'><br>"
   ]
  },
  {
   "cell_type": "code",
   "execution_count": 6,
   "id": "2b1e088b",
   "metadata": {},
   "outputs": [
    {
     "name": "stdout",
     "output_type": "stream",
     "text": [
      "AND(0,0): 0\n",
      "AND(1,0): 0\n",
      "AND(0,1): 0\n",
      "AND(1,1): 1\n"
     ]
    }
   ],
   "source": [
    "def AND(x1, x2):\n",
    "    w1, w2, theta = 0.5, 0.5, 0.7\n",
    "    tmp = x1*w1 + x2*w2\n",
    "    if tmp <= theta:\n",
    "        return 0\n",
    "    else:\n",
    "        return 1\n",
    "print(\"AND(0,0):\", AND(0,0))\n",
    "print(\"AND(1,0):\", AND(1,0))\n",
    "print(\"AND(0,1):\", AND(0,1))\n",
    "print(\"AND(1,1):\", AND(1,1))\n"
   ]
  },
  {
   "cell_type": "markdown",
   "id": "cc73af0c",
   "metadata": {},
   "source": [
    "## 权重和偏置"
   ]
  },
  {
   "cell_type": "markdown",
   "id": "37679d25",
   "metadata": {},
   "source": [
    "首先把感知机公式 1 的 θ 换成 −b，于是就可以用下列公式来表示感知机的行为。b 称为 偏置，w1、w2 称为权重。"
   ]
  },
  {
   "cell_type": "markdown",
   "id": "7a44b89c",
   "metadata": {},
   "source": [
    "<img src='../assets/感知机公式2.png'><br>"
   ]
  },
  {
   "cell_type": "code",
   "execution_count": 9,
   "id": "8522da3c",
   "metadata": {},
   "outputs": [
    {
     "name": "stdout",
     "output_type": "stream",
     "text": [
      "AND_numpy(0,0): 0\n",
      "AND_numpy(1,0): 0\n",
      "AND_numpy(0,1): 0\n",
      "AND_numpy(1,1): 1\n"
     ]
    }
   ],
   "source": [
    "\n",
    "import numpy as np\n",
    "# 使用numpy实现\n",
    "def AND_numpy(x1, x2):\n",
    "    x = np.array([x1, x2])\n",
    "    w = np.array([0.5, 0.5])\n",
    "    b = -0.7\n",
    "    tmp = np.dot(x, w) + b\n",
    "    if tmp <= 0:\n",
    "        return 0\n",
    "    else:\n",
    "        return 1\n",
    "print(\"AND_numpy(0,0):\", AND_numpy(0,0))\n",
    "print(\"AND_numpy(1,0):\", AND_numpy(1,0))\n",
    "print(\"AND_numpy(0,1):\", AND_numpy(0,1))\n",
    "print(\"AND_numpy(1,1):\", AND_numpy(1,1))"
   ]
  },
  {
   "cell_type": "markdown",
   "id": "a2a1686b",
   "metadata": {},
   "source": [
    "## 实现与非门和或门"
   ]
  },
  {
   "cell_type": "code",
   "execution_count": 11,
   "id": "2f1ed9e7",
   "metadata": {},
   "outputs": [
    {
     "name": "stdout",
     "output_type": "stream",
     "text": [
      "NAND(0,0): 1\n",
      "NAND(1,0): 1\n",
      "NAND(0,1): 1\n",
      "NAND(1,1): 0\n"
     ]
    }
   ],
   "source": [
    "# 与非门的实现(与门取反)\n",
    "def NAND(x1, x2):\n",
    "    x = np.array([x1, x2])\n",
    "    w = np.array([-0.5, -0.5])\n",
    "    b = 0.7\n",
    "    tmp = np.dot(x, w) + b\n",
    "    if tmp <= 0:\n",
    "        return 0\n",
    "    else:\n",
    "        return 1\n",
    "print(\"NAND(0,0):\", NAND(0,0))\n",
    "print(\"NAND(1,0):\", NAND(1,0))\n",
    "print(\"NAND(0,1):\", NAND(0,1))\n",
    "print(\"NAND(1,1):\", NAND(1,1))"
   ]
  },
  {
   "cell_type": "code",
   "execution_count": 12,
   "id": "67ea9e9a",
   "metadata": {},
   "outputs": [
    {
     "name": "stdout",
     "output_type": "stream",
     "text": [
      "OR(0,0): 0\n",
      "OR(1,0): 1\n",
      "OR(0,1): 1\n",
      "OR(1,1): 1\n"
     ]
    }
   ],
   "source": [
    "# 或门的实现\n",
    "def OR(x1, x2):\n",
    "    x = np.array([x1, x2])\n",
    "    w = np.array([0.5, 0.5])\n",
    "    b = -0.2\n",
    "    tmp = np.dot(x, w) + b\n",
    "    if tmp <= 0:\n",
    "        return 0\n",
    "    else:\n",
    "        return 1\n",
    "print(\"OR(0,0):\", OR(0,0))\n",
    "print(\"OR(1,0):\", OR(1,0))\n",
    "print(\"OR(0,1):\", OR(0,1))\n",
    "print(\"OR(1,1):\", OR(1,1))\n"
   ]
  },
  {
   "cell_type": "markdown",
   "id": "a0029835",
   "metadata": {},
   "source": [
    "## 异或门"
   ]
  },
  {
   "cell_type": "code",
   "execution_count": null,
   "id": "914097a2",
   "metadata": {},
   "outputs": [],
   "source": []
  }
 ],
 "metadata": {
  "kernelspec": {
   "display_name": "base",
   "language": "python",
   "name": "python3"
  },
  "language_info": {
   "codemirror_mode": {
    "name": "ipython",
    "version": 3
   },
   "file_extension": ".py",
   "mimetype": "text/x-python",
   "name": "python",
   "nbconvert_exporter": "python",
   "pygments_lexer": "ipython3",
   "version": "3.6.5"
  }
 },
 "nbformat": 4,
 "nbformat_minor": 5
}
